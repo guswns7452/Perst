{
 "cells": [
  {
   "cell_type": "markdown",
   "metadata": {},
   "source": [
    "## 플라스크 서버 운영하기"
   ]
  },
  {
   "cell_type": "code",
   "execution_count": null,
   "metadata": {
    "vscode": {
     "languageId": "plaintext"
    }
   },
   "outputs": [],
   "source": [
    "flask run"
   ]
  },
  {
   "cell_type": "markdown",
   "metadata": {},
   "source": [
    "### GET 방식"
   ]
  },
  {
   "cell_type": "code",
   "execution_count": null,
   "metadata": {
    "vscode": {
     "languageId": "plaintext"
    }
   },
   "outputs": [],
   "source": [
    "from flask import Flask\n",
    "from flask import request\n",
    " \n",
    "app = Flask(__name__)\n",
    " \n",
    "@app.route('/')\n",
    "def user_juso():\n",
    " \n",
    "    temp = request.args.get('name', \"user01\")\n",
    "    temp1 = request.args.get('juso', \"평택시\")\n",
    " \n",
    "    return temp + \"-\" + temp1\n",
    "\n",
    "if __name__ == \"__main__\":\n",
    "\t\tapp.run()"
   ]
  },
  {
   "cell_type": "markdown",
   "metadata": {},
   "source": [
    "### POST 방식"
   ]
  },
  {
   "cell_type": "code",
   "execution_count": null,
   "metadata": {
    "vscode": {
     "languageId": "plaintext"
    }
   },
   "outputs": [],
   "source": [
    "from flask import Flask, render_template, request\n",
    "app = Flask(__name__)\n",
    "\n",
    "@app.route(\"/\")\n",
    "def hello():\n",
    "\treturn render_template('input.html')\n",
    "\n",
    "@app.route(\"/post\",methods=['POST'])\n",
    "def post():\n",
    "\tvalue = request.form['input']\n",
    "\tmsg = \"%s 님 환영합니다.\" %value\n",
    "\treturn msg\n",
    "\n",
    "if __name__ == \"__main__\":\n",
    "\t\tapp.run()"
   ]
  },
  {
   "cell_type": "markdown",
   "metadata": {},
   "source": [
    "### 해야 할 작업\n",
    "1. [Spring] Flutter에서 파일을 업로드 한 후 요청을 토대로 API를 작성하는 것.\n",
    "2. [Flask] 구글 드라이브에서 파일을 가져오는 것.\n",
    "3. [Flask] 분석한 결과 값을 [Spring]으로 리턴해 주는 코드 작성.\n",
    "4. [Spring] Flask에서 받아온 결과 값을 rest API로 다시 반환"
   ]
  }
 ],
 "metadata": {
  "language_info": {
   "name": "python"
  }
 },
 "nbformat": 4,
 "nbformat_minor": 2
}
